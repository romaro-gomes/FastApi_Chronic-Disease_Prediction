{
 "cells": [
  {
   "cell_type": "markdown",
   "metadata": {},
   "source": [
    "# Libraries"
   ]
  },
  {
   "cell_type": "code",
   "execution_count": null,
   "metadata": {},
   "outputs": [],
   "source": [
    "import pandas as pd\n",
    "import matplotlib.pyplot as plt\n",
    "import seaborn as sns\n",
    "import numpy as np\n",
    "from sklearn.impute import SimpleImputer"
   ]
  },
  {
   "cell_type": "markdown",
   "metadata": {},
   "source": [
    "# Import Datasets"
   ]
  },
  {
   "cell_type": "code",
   "execution_count": null,
   "metadata": {},
   "outputs": [],
   "source": [
    "hypertension=pd.read_csv('../data/hypertension_data.csv')\n",
    "stroke=pd.read_csv('../data/stroke_data.csv')\n"
   ]
  },
  {
   "cell_type": "markdown",
   "metadata": {},
   "source": [
    "# Dictionary"
   ]
  },
  {
   "cell_type": "markdown",
   "metadata": {},
   "source": [
    "# Hipertension\n",
    "age\n",
    "patient's age (in years)\n",
    "\n",
    "sex\n",
    "patient's gender\n",
    "(1: male; \n",
    "0: female)\n",
    "\n",
    "cp\n",
    "Chest pain type: \n",
    "0: asymptomatic \n",
    "1: typical angina \n",
    "2: atypical angina \n",
    "3: non-anginal pain\n",
    "\n",
    "trestbps\n",
    "Resting blood pressure (in mm Hg)\n",
    "\n",
    "chol\n",
    "Serum cholestoral in mg/dl\n",
    "\n",
    "fbs\n",
    "if the patient's fasting blood sugar > 120 mg/dl (\n",
    "1: yes; \n",
    "0: no)\n",
    "\n",
    "restecg\n",
    "Resting ECG results: \n",
    "0: normal \n",
    "1: ST-T wave abnormality (T wave inversions and/or ST elevation or depression of > 0.05 mV) \n",
    "2: probable or definite left ventricular hypertrophy by Estes' criteria\n",
    "\n",
    "thalach\n",
    "Maximum heart rate achieved.\n",
    "\n",
    "exang\n",
    "Exercise induced angina (\n",
    "1: yes; \n",
    "0: no)\n",
    "\n",
    "oldpeak\n",
    "ST depression induced by exercise relative to rest.\n",
    "\n",
    "slope\n",
    "The slope of the peak exercise ST segment:\n",
    "0: upsloping \n",
    "1: flat 2: downsloping\n",
    "\n",
    "ca\n",
    "Number of major vessels (0–3) colored by flourosopy\n",
    "\n",
    "thal\n",
    "3: Normal; \n",
    "6: Fixed defect; \n",
    "7: Reversable defect\n",
    "\n",
    "target\n",
    "Whether the patient \n",
    "has hypertension= (1) or \n",
    "not= 0"
   ]
  },
  {
   "cell_type": "markdown",
   "metadata": {},
   "source": [
    "# Stroke\n",
    "\n",
    "sex\n",
    "patient's gender \n",
    "(1: male; \n",
    "0: female)\n",
    "\n",
    "age\n",
    "patient's age (in years)\n",
    "\n",
    "hypertension\n",
    "patient has ever \n",
    "had hypertension (1) or \n",
    "not (0)\n",
    "\n",
    "heart_disease\n",
    "patient has ever \n",
    "had heart_disease(1) or \n",
    "not (0)\n",
    "\n",
    "ever_married\n",
    "patient married (1) or \n",
    "not (0)\n",
    "\n",
    "work_type\n",
    "patient job type: \n",
    "0 - Never_worked, \n",
    "1 - children, \n",
    "2 - Govt_job, \n",
    "3 - Self-employed, \n",
    "4 - Private\n",
    "\n",
    "Residence_type\n",
    "patient area: \n",
    "1 - Urban, \n",
    "0 - Rural\n",
    "\n",
    "avg_glucose_level\n",
    "patient average blood sugar level\n",
    "\n",
    "bmi\n",
    "Body Mass Index\n",
    "\n",
    "smoking_status\n",
    "1 - smokes, \n",
    "0 - never smoked\n",
    "\n",
    "strokeWhether the patient \n",
    "has stroke (1) or \n",
    "not (0)"
   ]
  },
  {
   "cell_type": "markdown",
   "metadata": {},
   "source": [
    "# Missing Values"
   ]
  },
  {
   "cell_type": "code",
   "execution_count": null,
   "metadata": {},
   "outputs": [],
   "source": [
    "stroke.isna().sum()"
   ]
  },
  {
   "cell_type": "code",
   "execution_count": null,
   "metadata": {},
   "outputs": [],
   "source": [
    "hypertension.isna().sum()"
   ]
  },
  {
   "cell_type": "code",
   "execution_count": null,
   "metadata": {},
   "outputs": [],
   "source": [
    "simple_imputer=SimpleImputer(strategy='most_frequent')"
   ]
  },
  {
   "cell_type": "code",
   "execution_count": null,
   "metadata": {},
   "outputs": [],
   "source": [
    "stroke = pd.DataFrame(simple_imputer.fit_transform(stroke), columns=stroke.columns)\n",
    "hypertension=pd.DataFrame(simple_imputer.fit_transform(hypertension), columns=hypertension.columns)"
   ]
  },
  {
   "cell_type": "code",
   "execution_count": null,
   "metadata": {},
   "outputs": [],
   "source": [
    "hypertension.isna().sum(),stroke.isna().sum()"
   ]
  },
  {
   "cell_type": "markdown",
   "metadata": {},
   "source": [
    "# EDA"
   ]
  },
  {
   "cell_type": "markdown",
   "metadata": {},
   "source": [
    "## Hipertension"
   ]
  },
  {
   "cell_type": "code",
   "execution_count": null,
   "metadata": {},
   "outputs": [],
   "source": [
    "hipertension_column=hypertension.columns.to_list()"
   ]
  },
  {
   "cell_type": "code",
   "execution_count": null,
   "metadata": {},
   "outputs": [],
   "source": [
    "for column in hipertension_column:\n",
    "    sns.countplot(data=hypertension, x=column, hue='target')\n",
    "    plt.show()"
   ]
  },
  {
   "cell_type": "code",
   "execution_count": null,
   "metadata": {},
   "outputs": [],
   "source": [
    "sns.boxplot(data=hypertension,x='chol',hue='target')"
   ]
  },
  {
   "cell_type": "markdown",
   "metadata": {},
   "source": [
    "## Stroke"
   ]
  },
  {
   "cell_type": "code",
   "execution_count": null,
   "metadata": {},
   "outputs": [],
   "source": [
    "stroke_columns=stroke.columns.to_list()"
   ]
  },
  {
   "cell_type": "code",
   "execution_count": null,
   "metadata": {},
   "outputs": [],
   "source": [
    "for column in stroke_columns:\n",
    "    sns.countplot(data=stroke, x=column, hue='stroke')\n",
    "    plt.show()"
   ]
  },
  {
   "cell_type": "markdown",
   "metadata": {},
   "source": [
    "# Export Data"
   ]
  },
  {
   "cell_type": "code",
   "execution_count": null,
   "metadata": {},
   "outputs": [],
   "source": [
    "stroke.to_csv('../data/stroke_impute_data.csv',index=False)\n",
    "hypertension.to_csv('../data/hypertension_impute_data.csv',index=False)"
   ]
  }
 ],
 "metadata": {
  "kernelspec": {
   "display_name": "venv",
   "language": "python",
   "name": "python3"
  },
  "language_info": {
   "codemirror_mode": {
    "name": "ipython",
    "version": 3
   },
   "file_extension": ".py",
   "mimetype": "text/x-python",
   "name": "python",
   "nbconvert_exporter": "python",
   "pygments_lexer": "ipython3",
   "version": "3.11.4"
  }
 },
 "nbformat": 4,
 "nbformat_minor": 2
}
